{
 "cells": [
  {
   "cell_type": "code",
   "execution_count": 173,
   "metadata": {},
   "outputs": [],
   "source": [
    "import pandas as pd\n",
    "import matplotlib.pyplot as plt\n",
    "import numpy as np\n",
    "import seaborn as sns\n",
    "from sklearn.preprocessing import StandardScaler\n",
    "from matplotlib.pyplot import figure\n",
    "import matplotlib\n",
    "from sklearn.linear_model import LinearRegression\n",
    "from sklearn.model_selection import train_test_split, cross_val_score\n",
    "from sklearn.model_selection import train_test_split, cross_val_score\n",
    "from sklearn.preprocessing import StandardScaler, PolynomialFeatures\n",
    "from sklearn import preprocessing"
   ]
  },
  {
   "cell_type": "code",
   "execution_count": 174,
   "metadata": {},
   "outputs": [],
   "source": [
    "pd.set_option('display.max_columns', 150)\n",
    "pd.set_option('display.max_rows', 1000)\n",
    "pd.set_option('display.min_rows', 500)"
   ]
  },
  {
   "cell_type": "code",
   "execution_count": 175,
   "metadata": {},
   "outputs": [],
   "source": [
    "df = pd.read_csv('main_df.csv')"
   ]
  },
  {
   "cell_type": "code",
   "execution_count": 176,
   "metadata": {},
   "outputs": [],
   "source": [
    "current_year_df= pd.read_csv('2020_games.csv')"
   ]
  },
  {
   "cell_type": "markdown",
   "metadata": {},
   "source": [
    "# Feature Engineering"
   ]
  },
  {
   "cell_type": "code",
   "execution_count": 177,
   "metadata": {},
   "outputs": [],
   "source": [
    "df = df[pd.notnull(df['minutes_played'])]"
   ]
  },
  {
   "cell_type": "code",
   "execution_count": 178,
   "metadata": {},
   "outputs": [],
   "source": [
    "current_year_df = current_year_df[pd.notnull(current_year_df['minutes_played'])]"
   ]
  },
  {
   "cell_type": "code",
   "execution_count": 179,
   "metadata": {},
   "outputs": [],
   "source": [
    "name_list = df['name'].unique().tolist()"
   ]
  },
  {
   "cell_type": "markdown",
   "metadata": {},
   "source": [
    "# Adding average past 3 games columns"
   ]
  },
  {
   "cell_type": "markdown",
   "metadata": {},
   "source": [
    "**Have to parse dataframe by player and then concat to a new dataframe to ensure when a new player row starts, its not using the data from the player aboves past 3 games**"
   ]
  },
  {
   "cell_type": "code",
   "execution_count": 180,
   "metadata": {},
   "outputs": [],
   "source": [
    "def rolling_mean(player):\n",
    "    rolling_df = df[df['name'] == player]\n",
    "    rolling_df['past_3_games_fantasy'] = rolling_df['fantasy_points'].rolling(3).mean()\n",
    "    rolling_df['past_3_games_fantasy'] = rolling_df['past_3_games_fantasy'].shift(1)\n",
    "    rolling_df['past_3_games_points'] = rolling_df['points'].rolling(3).mean()\n",
    "    rolling_df['past_3_games_points'] = rolling_df['past_3_games_points'].shift(1)\n",
    "    rolling_df['past_3_games_rebounds'] = rolling_df['total_rebounds'].rolling(3).mean()\n",
    "    rolling_df['past_3_games_rebounds'] = rolling_df['past_3_games_rebounds'].shift(1)\n",
    "    rolling_df['past_3_games_assists'] = rolling_df['assists'].rolling(3).mean()\n",
    "    rolling_df['past_3_games_assists'] = rolling_df['past_3_games_assists'].shift(1)\n",
    "    rolling_df['past_3_games_steals'] = rolling_df['steals'].rolling(3).mean()\n",
    "    rolling_df['past_3_games_steals'] = rolling_df['past_3_games_steals'].shift(1)\n",
    "    return rolling_df"
   ]
  },
  {
   "cell_type": "code",
   "execution_count": 181,
   "metadata": {},
   "outputs": [],
   "source": [
    "def current_rolling_mean(player):\n",
    "    rolling_df = current_year_df[current_year_df['name'] == player]\n",
    "    rolling_df['past_3_games_fantasy'] = rolling_df['fantasy_points'].rolling(3).mean()\n",
    "    rolling_df['past_3_games_fantasy'] = rolling_df['past_3_games_fantasy'].shift(1)\n",
    "    rolling_df['past_3_games_points'] = rolling_df['points'].rolling(3).mean()\n",
    "    rolling_df['past_3_games_points'] = rolling_df['past_3_games_points'].shift(1)\n",
    "    rolling_df['past_3_games_rebounds'] = rolling_df['total_rebounds'].rolling(3).mean()\n",
    "    rolling_df['past_3_games_rebounds'] = rolling_df['past_3_games_rebounds'].shift(1)\n",
    "    rolling_df['past_3_games_assists'] = rolling_df['assists'].rolling(3).mean()\n",
    "    rolling_df['past_3_games_assists'] = rolling_df['past_3_games_assists'].shift(1)\n",
    "    rolling_df['past_3_games_steals'] = rolling_df['steals'].rolling(3).mean()\n",
    "    rolling_df['past_3_games_steals'] = rolling_df['past_3_games_steals'].shift(1)\n",
    "    rolling_df['past_3_games_usage'] = rolling_df['usage_rate'].rolling(3).mean()\n",
    "    rolling_df['past_3_games_usage'] = rolling_df['past_3_games_usage'].shift(1)\n",
    "    return rolling_df"
   ]
  },
  {
   "cell_type": "markdown",
   "metadata": {},
   "source": [
    "**Creating one dataframe**"
   ]
  },
  {
   "cell_type": "code",
   "execution_count": 1,
   "metadata": {},
   "outputs": [],
   "source": [
    "current_df = pd.DataFrame()\n",
    "for w in current_names:\n",
    "    if len(current_rolling_mean(w)) > 15:\n",
    "        current_df = pd.concat([current_df, current_rolling_mean(w)])"
   ]
  },
  {
   "cell_type": "code",
   "execution_count": 2,
   "metadata": {},
   "outputs": [],
   "source": [
    "past_df = pd.DataFrame()\n",
    "for w in name_list:\n",
    "    if len(rolling_mean(w)) > 100:\n",
    "        past_df = pd.concat([past_df, rolling_mean(w)])"
   ]
  },
  {
   "cell_type": "markdown",
   "metadata": {},
   "source": [
    "# Making the Dataframe to model with"
   ]
  },
  {
   "cell_type": "code",
   "execution_count": 184,
   "metadata": {},
   "outputs": [],
   "source": [
    "model_df = past_df.drop(columns = ['slug', 'date', 'age', 'game_result',\\\n",
    "                              'minutes_played', 'field_goals', 'field_goals_att', \\\n",
    "                              'field_goal_perc', 'three_point_made', 'three_point_att',\\\n",
    "                              'three_point_perc', 'free_throws_made', 'free_throws_att',\\\n",
    "                              'free_throw_perc', 'offensive_rebound', 'defensive_rebound',\\\n",
    "                              'total_rebounds', 'assists', 'steals', 'blocks', 'turnovers',\\\n",
    "                              'team', 'personal_fouls', 'points', 'game_score', 'plus_minus',\\\n",
    "                              'date_string', 'combined', 'team_field_goals', 'team_free_throws_att',\\\n",
    "                              'team_turnovers', 'team_minutes_played', 'true_shooting_att', 'true_shooting_%', 'usage_rate'])\n",
    "                        "
   ]
  },
  {
   "cell_type": "code",
   "execution_count": 185,
   "metadata": {},
   "outputs": [
    {
     "data": {
      "text/plain": [
       "Unnamed: 0                  0\n",
       "name                        0\n",
       "away                        0\n",
       "opponent                    0\n",
       "fantasy_points              0\n",
       "past_3_games_fantasy     1125\n",
       "past_3_games_points      1125\n",
       "past_3_games_rebounds    1125\n",
       "past_3_games_assists     1125\n",
       "past_3_games_steals      1125\n",
       "past_3_games_usage       1374\n",
       "dtype: int64"
      ]
     },
     "execution_count": 185,
     "metadata": {},
     "output_type": "execute_result"
    }
   ],
   "source": [
    "model_df.isna().sum()"
   ]
  },
  {
   "cell_type": "code",
   "execution_count": 186,
   "metadata": {},
   "outputs": [],
   "source": [
    "model_df = pd.get_dummies(model_df, columns=['opponent'])"
   ]
  },
  {
   "cell_type": "code",
   "execution_count": 187,
   "metadata": {},
   "outputs": [],
   "source": [
    "model_df = model_df.dropna()"
   ]
  },
  {
   "cell_type": "code",
   "execution_count": 188,
   "metadata": {},
   "outputs": [],
   "source": [
    "current_model_df = current_df.drop(columns = ['slug', 'date', 'age', 'game_result',\\\n",
    "                              'minutes_played', 'field_goals', 'field_goals_att', \\\n",
    "                              'field_goal_perc', 'three_point_made', 'three_point_att',\\\n",
    "                              'three_point_perc', 'free_throws_made', 'free_throws_att',\\\n",
    "                              'free_throw_perc', 'offensive_rebound', 'defensive_rebound',\\\n",
    "                              'total_rebounds', 'assists', 'steals', 'blocks', 'turnovers',\\\n",
    "                              'team', 'personal_fouls', 'points', 'game_score', 'plus_minus',\\\n",
    "                              'date_string', 'combined', 'team_field_goals', 'team_free_throws_att',\\\n",
    "                              'team_turnovers', 'team_minutes_played', 'true_shooting_att', 'true_shooting_%', 'usage_rate'])"
   ]
  },
  {
   "cell_type": "code",
   "execution_count": 189,
   "metadata": {},
   "outputs": [],
   "source": [
    "current_model_df = pd.get_dummies(current_model_df, columns=['opponent'])"
   ]
  },
  {
   "cell_type": "code",
   "execution_count": 190,
   "metadata": {},
   "outputs": [],
   "source": [
    "current_model_df = current_model_df.dropna()"
   ]
  },
  {
   "cell_type": "code",
   "execution_count": 191,
   "metadata": {},
   "outputs": [
    {
     "data": {
      "text/plain": [
       "(4703, 40)"
      ]
     },
     "execution_count": 191,
     "metadata": {},
     "output_type": "execute_result"
    }
   ],
   "source": [
    "current_model_df.shape"
   ]
  },
  {
   "cell_type": "markdown",
   "metadata": {},
   "source": [
    "# Linear Regression"
   ]
  },
  {
   "cell_type": "markdown",
   "metadata": {},
   "source": [
    "**Seeing how it performs on the whole dataframe**"
   ]
  },
  {
   "cell_type": "code",
   "execution_count": 3,
   "metadata": {},
   "outputs": [],
   "source": [
    "X = model_df.drop(columns = ['fantasy_points', 'fantasy_points_log', 'Unnamed: 0', 'name'] )\n",
    "y = model_df['fantasy_points']\n",
    "X_train, X_test, y_train, y_test = train_test_split(X,y, test_size=0.05, random_state=42, shuffle=False)\n",
    "lr = LinearRegression()\n",
    "lr.fit(X_train,y_train)\n",
    "train_score = lr.score(X_train, y_train)\n",
    "test_score = lr.score(X_test, y_test)\n",
    "\n",
    "print(f\"train score is {train_score}\")\n",
    "print( f'test score is {test_score}')\n",
    "print(lr.predict(X_test))\n",
    "print(y_test)\n",
    "predictions = lr.predict(X_test)\n",
    "residuals = y_test - predictions\n",
    "plt.scatter(predictions, y_test, s=10, alpha = 1)\n",
    "plt.plot([0, np.max(y_test)],\n",
    "            [0, np.max(y_test)],\n",
    "            color = 'black');"
   ]
  },
  {
   "cell_type": "markdown",
   "metadata": {},
   "source": [
    "**Testing the model by player**"
   ]
  },
  {
   "cell_type": "code",
   "execution_count": 235,
   "metadata": {},
   "outputs": [],
   "source": [
    "def player_prediction(player): \n",
    "    testing_df = model_df[model_df['name'] == player]\n",
    "    testing_df = testing_df.drop(columns= ['name'])\n",
    "    #features = ['past_3_games_fantasy', 'past_3_games_points', 'past_3_games_rebounds', 'past_3_games_assists', 'past_3_games_steals', 'past_3_games_usage']\n",
    "    X = testing_df.drop(columns = ['fantasy_points', 'Unnamed: 0'] )\n",
    "    #X = testing_df[features]\n",
    "    y = testing_df['fantasy_points']\n",
    "    X_train, X_test, y_train, y_test = train_test_split(X,y, test_size=0.01, random_state=42, shuffle=False)\n",
    "    lr = LinearRegression()\n",
    "    lr.fit(X_train,y_train)\n",
    "    train_score = lr.score(X_train, y_train)\n",
    "    test_score = lr.score(X_test, y_test)\n",
    "    predictions = lr.predict(X_test)\n",
    "    # Calculate the absolute errors\n",
    "    errors = abs(predictions - y_test)\n",
    "    # Print out the mean absolute error (mae)\n",
    "    #print('Mean Absolute Error:', round(np.mean(errors), 2), 'points.')\n",
    "    # Calculate mean absolute percentage error (MAPE)\n",
    "    ape = 100 * (np.mean(errors) / np.mean(y_test))\n",
    "    # Calculate and display accuracy\n",
    "    mape = 100 - np.mean(ape)\n",
    "    print(predictions)\n",
    "    print(y_test)\n",
    "    print(mape)\n",
    "    residuals = y_test - predictions\n",
    "    plt.scatter(predictions, y_test, s=10, alpha = 1)\n",
    "    plt.plot([0, np.max(y_test)],\n",
    "             [0, np.max(y_test)],\n",
    "                 color = 'black');"
   ]
  },
  {
   "cell_type": "code",
   "execution_count": 236,
   "metadata": {},
   "outputs": [
    {
     "name": "stdout",
     "output_type": "stream",
     "text": [
      "[36.78027344 37.26446533 38.85253906 38.55847168 25.43560791 35.36425781\n",
      " 35.39154053]\n",
      "239556    54.25\n",
      "239557    35.50\n",
      "239558    29.50\n",
      "239562    32.50\n",
      "239563    35.00\n",
      "239564    26.00\n",
      "239565    42.25\n",
      "Name: fantasy_points, dtype: float64\n",
      "76.30105411305146\n"
     ]
    },
    {
     "data": {
      "image/png": "[encoded data removed]",
      "text/plain": [
       "<Figure size 432x288 with 1 Axes>"
      ]
     },
     "metadata": {
      "needs_background": "light"
     },
     "output_type": "display_data"
    }
   ],
   "source": [
    "player_prediction('Kemba Walker')"
   ]
  },
  {
   "cell_type": "markdown",
   "metadata": {},
   "source": [
    "# Random Forest Regressor"
   ]
  },
  {
   "cell_type": "code",
   "execution_count": 192,
   "metadata": {},
   "outputs": [],
   "source": [
    "from sklearn.ensemble import RandomForestRegressor"
   ]
  },
  {
   "cell_type": "code",
   "execution_count": 196,
   "metadata": {},
   "outputs": [],
   "source": [
    "return_list = []\n",
    "def player_prediction_plot(player): \n",
    "    testing_df = model_df[model_df['name'] == player]\n",
    "    testing_df = testing_df.drop(columns= ['name'])\n",
    "    X = np.array(testing_df.drop(columns = ['fantasy_points', 'Unnamed: 0', 'past_3_games_usage'] ))\n",
    "    y = np.array(testing_df['fantasy_points'])\n",
    "    X_train, X_test, y_train, y_test = train_test_split(X,y, test_size=0.01, random_state=42, shuffle=False)\n",
    "    # Instantiate model with 250 decision trees\n",
    "    rf = RandomForestRegressor(n_estimators = 250, random_state = 42)\n",
    "    # Train the model on training data\n",
    "    rf.fit(X_train, y_train);\n",
    "    # Use the forest's predict method on the test data\n",
    "    predictions = rf.predict(X_test)\n",
    "    # Calculate the absolute errors\n",
    "    errors = abs(predictions - y_test)\n",
    "    # Print out the mean absolute error (mae)\n",
    "    #print('Mean Absolute Error:', round(np.mean(errors), 2), 'points.')\n",
    "    # Calculate mean absolute percentage error (MAPE)\n",
    "    ape = 100 * (np.mean(errors) / np.mean(y_test))\n",
    "    # Calculate and display accuracy\n",
    "    mape = 100 - np.mean(ape)\n",
    "    return_dict = {'name': player,\n",
    "                   'mape': mape,\n",
    "                    'actual': np.mean(y_test)}\n",
    "    return_list.append(return_dict)\n",
    "    return return_dict"
   ]
  },
  {
   "cell_type": "code",
   "execution_count": 197,
   "metadata": {},
   "outputs": [],
   "source": [
    "name_list = model_df['name'].unique().tolist()"
   ]
  },
  {
   "cell_type": "code",
   "execution_count": 206,
   "metadata": {},
   "outputs": [],
   "source": [
    "for name in name_list:\n",
    "    player_prediction_plot(name)"
   ]
  },
  {
   "cell_type": "code",
   "execution_count": 204,
   "metadata": {},
   "outputs": [],
   "source": [
    "plot_df = pd.DataFrame(return_list)"
   ]
  },
  {
   "cell_type": "code",
   "execution_count": 207,
   "metadata": {},
   "outputs": [
    {
     "data": {
      "text/html": [
       "<div>\n",
       "<style scoped>\n",
       "    .dataframe tbody tr th:only-of-type {\n",
       "        vertical-align: middle;\n",
       "    }\n",
       "\n",
       "    .dataframe tbody tr th {\n",
       "        vertical-align: top;\n",
       "    }\n",
       "\n",
       "    .dataframe thead th {\n",
       "        text-align: right;\n",
       "    }\n",
       "</style>\n",
       "<table border=\"1\" class=\"dataframe\">\n",
       "  <thead>\n",
       "    <tr style=\"text-align: right;\">\n",
       "      <th></th>\n",
       "      <th>name</th>\n",
       "      <th>mape</th>\n",
       "      <th>actual</th>\n",
       "    </tr>\n",
       "  </thead>\n",
       "  <tbody>\n",
       "    <tr>\n",
       "      <td>0</td>\n",
       "      <td>Steven Adams</td>\n",
       "      <td>67.536436</td>\n",
       "      <td>36.708333</td>\n",
       "    </tr>\n",
       "    <tr>\n",
       "      <td>1</td>\n",
       "      <td>Bam Adebayo</td>\n",
       "      <td>84.313758</td>\n",
       "      <td>40.583333</td>\n",
       "    </tr>\n",
       "    <tr>\n",
       "      <td>2</td>\n",
       "      <td>LaMarcus Aldridge</td>\n",
       "      <td>54.418100</td>\n",
       "      <td>33.150000</td>\n",
       "    </tr>\n",
       "    <tr>\n",
       "      <td>3</td>\n",
       "      <td>Jarrett Allen</td>\n",
       "      <td>76.283916</td>\n",
       "      <td>23.833333</td>\n",
       "    </tr>\n",
       "    <tr>\n",
       "      <td>4</td>\n",
       "      <td>Kyle Anderson</td>\n",
       "      <td>73.595166</td>\n",
       "      <td>20.687500</td>\n",
       "    </tr>\n",
       "  </tbody>\n",
       "</table>\n",
       "</div>"
      ],
      "text/plain": [
       "                name       mape     actual\n",
       "0       Steven Adams  67.536436  36.708333\n",
       "1        Bam Adebayo  84.313758  40.583333\n",
       "2  LaMarcus Aldridge  54.418100  33.150000\n",
       "3      Jarrett Allen  76.283916  23.833333\n",
       "4      Kyle Anderson  73.595166  20.687500"
      ]
     },
     "execution_count": 207,
     "metadata": {},
     "output_type": "execute_result"
    }
   ],
   "source": [
    "plot_df.head()"
   ]
  },
  {
   "cell_type": "code",
   "execution_count": 242,
   "metadata": {},
   "outputs": [],
   "source": [
    "current_return_list = []\n",
    "def current_player_prediction_plot(player): \n",
    "    testing_df = current_model_df[current_model_df['name'] == player]\n",
    "    testing_df = testing_df.drop(columns= ['name', 'date.1'])\n",
    "    X = np.array(testing_df.drop(columns = ['fantasy_points', 'past_3_games_usage'] ))\n",
    "    y = np.array(testing_df['fantasy_points'])\n",
    "    X_train, X_test, y_train, y_test = train_test_split(X,y, test_size=0.25, random_state=42, shuffle=False)\n",
    "    # Instantiate model with 250 decision trees\n",
    "    rf = RandomForestRegressor(n_estimators = 250, random_state = 42)\n",
    "    # Train the model on training data\n",
    "    rf.fit(X_train, y_train);\n",
    "    # Use the forest's predict method on the test data\n",
    "    predictions = rf.predict(X_test)\n",
    "    # Calculate the absolute errors\n",
    "    errors = abs(predictions - y_test)\n",
    "    # Print out the mean absolute error (mae)\n",
    "    #print('Mean Absolute Error:', round(np.mean(errors), 2), 'points.')\n",
    "    # Calculate mean absolute percentage error (MAPE)\n",
    "    ape = 100 * (np.mean(errors) / np.mean(y_test))\n",
    "    # Calculate and display accuracy\n",
    "    mape = 100 - np.mean(ape)\n",
    "    current_return_dict = {'name': player,\n",
    "                   'mape': mape,\n",
    "                    'actual': np.mean(y_test)}\n",
    "    current_return_list.append(current_return_dict)\n",
    "    return current_return_dict"
   ]
  },
  {
   "cell_type": "code",
   "execution_count": 209,
   "metadata": {},
   "outputs": [],
   "source": [
    "current_names = current_model_df['name'].unique().tolist()"
   ]
  },
  {
   "cell_type": "code",
   "execution_count": 210,
   "metadata": {},
   "outputs": [],
   "source": [
    "for name in current_names:\n",
    "    current_player_prediction_plot(name)"
   ]
  },
  {
   "cell_type": "code",
   "execution_count": 223,
   "metadata": {},
   "outputs": [],
   "source": [
    "current_plot_df = pd.DataFrame(current_return_list)"
   ]
  },
  {
   "cell_type": "code",
   "execution_count": 225,
   "metadata": {},
   "outputs": [],
   "source": [
    "current_plot_df.to_csv('2020_plot_df.csv')"
   ]
  },
  {
   "cell_type": "code",
   "execution_count": 226,
   "metadata": {},
   "outputs": [],
   "source": [
    "plot_df.to_csv('plot_df.csv')"
   ]
  },
  {
   "cell_type": "code",
   "execution_count": 270,
   "metadata": {},
   "outputs": [],
   "source": [
    "from sklearn.metrics import mean_squared_error\n",
    "from sklearn.metrics import mean_absolute_error"
   ]
  },
  {
   "cell_type": "code",
   "execution_count": 294,
   "metadata": {},
   "outputs": [],
   "source": [
    "def player_prediction(player): \n",
    "    testing_df = model_df[model_df['name'] == player]\n",
    "    testing_df = testing_df.drop(columns= ['name'])\n",
    "    X = np.array(testing_df.drop(columns = ['fantasy_points', 'Unnamed: 0'] ))\n",
    "    y = np.array(testing_df['fantasy_points'])\n",
    "    X_train, X_test, y_train, y_test = train_test_split(X,y, test_size=0.01, random_state=42, shuffle=False)\n",
    "    # Instantiate model with 1000 decision trees\n",
    "    rf = RandomForestRegressor(n_estimators = 250, random_state = 42)\n",
    "    # Train the model on training data\n",
    "    rf.fit(X_train, y_train);\n",
    "    # Use the forest's predict method on the test data\n",
    "    predictions = rf.predict(X_test)\n",
    "    # Calculate the absolute errors\n",
    "    errors = abs(predictions - y_test)\n",
    "    # Calculate mean absolute percentage error (MAPE)\n",
    "    ape = 100 * (errors / y_test)\n",
    "    mape = 100 - np.mean(ape)\n",
    "    mse = mean_squared_error(y_test, predictions)\n",
    "    mae = mean_absolute_error(y_test, predictions)\n",
    "    print(f'MSE is: {round(mse, 2)}')\n",
    "    print(f'MAE is: {round(mae, 2)}')\n",
    "    print('MAPE:', round(mape, 2), '%.')\n",
    "    print(f'Average Actual: {round(np.mean(y_test),2)}')\n",
    "    print(f'Average Prediction: {round(np.mean(predictions),2)}')\n",
    "    plt.scatter(predictions, y_test, s=10, alpha = 1)\n",
    "    plt.plot([0, np.max(y_test)],\n",
    "        [0, np.max(y_test)],\n",
    "         color = 'black');"
   ]
  },
  {
   "cell_type": "code",
   "execution_count": 295,
   "metadata": {},
   "outputs": [
    {
     "name": "stdout",
     "output_type": "stream",
     "text": [
      "MSE is: 75.64\n",
      "MAE is: 7.23\n",
      "MAPE: 83.94 %.\n",
      "Average Actual: 46.54\n",
      "Average Prediction: 43.96\n"
     ]
    },
    {
     "data": {
      "image/png": "[encoded data removed]",
      "text/plain": [
       "<Figure size 432x288 with 1 Axes>"
      ]
     },
     "metadata": {
      "needs_background": "light"
     },
     "output_type": "display_data"
    }
   ],
   "source": [
    "player_prediction('Kawhi Leonard')"
   ]
  }
 ],
 "metadata": {
  "kernelspec": {
   "display_name": "Python 3",
   "language": "python",
   "name": "python3"
  },
  "language_info": {
   "codemirror_mode": {
    "name": "ipython",
    "version": 3
   },
   "file_extension": ".py",
   "mimetype": "text/x-python",
   "name": "python",
   "nbconvert_exporter": "python",
   "pygments_lexer": "ipython3",
   "version": "3.7.6"
  }
 },
 "nbformat": 4,
 "nbformat_minor": 2
}
