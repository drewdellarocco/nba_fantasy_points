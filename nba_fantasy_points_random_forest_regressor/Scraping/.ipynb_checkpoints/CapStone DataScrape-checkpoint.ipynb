{
 "cells": [
  {
   "cell_type": "code",
   "execution_count": null,
   "metadata": {},
   "outputs": [],
   "source": [
    "\n",
    "# Import libaries\n",
    "import numpy as np\n",
    "import pandas as pd\n",
    "import sklearn\n",
    "from sklearn.preprocessing import StandardScaler\n",
    "import requests\n",
    "from bs4 import BeautifulSoup\n"
   ]
  },
  {
   "cell_type": "markdown",
   "metadata": {},
   "source": [
    "# Scraping player info for the slug for the boxscore url"
   ]
  },
  {
   "cell_type": "code",
   "execution_count": null,
   "metadata": {},
   "outputs": [],
   "source": [
    "alphabet = [\"a\", \"b\", \"c\", \"d\", \"e\", \"f\", \"g\", \"h\", \"i\", \"j\", \"k\", \"l\", \"m\", \"n\",\\\n",
    "            \"o\", \"p\", \"q\", \"r\", \"s\", \"t\", \"u\", \"v\", \"w\", \"y\", \"z\"] "
   ]
  },
  {
   "cell_type": "code",
   "execution_count": null,
   "metadata": {},
   "outputs": [],
   "source": [
    "\n",
    "players = []\n",
    "for a in alphabet:\n",
    "    url2 = f'https://www.basketball-reference.com/players/{a}/'\n",
    "    r2 = requests.get(url2)\n",
    "    soup2 = BeautifulSoup(r2.content, 'lxml')\n",
    "    table2 = soup2.find('table', {'id' : 'players'})\n",
    "    \n",
    "    for row in table2.find('tbody').find_all('tr'):\n",
    "        player= {}\n",
    "        try:\n",
    "            player['slug'] = row.find('th').attrs['data-append-csv']\n",
    "        except:\n",
    "            player['slug'] = np.nan\n",
    "        try:\n",
    "            player['name'] = row.find('a').text\n",
    "        except:\n",
    "            player['name'] = np.nan\n",
    "        try:\n",
    "            player['year_start'] = row.find('td', {'data-stat' : 'year_min'}).text\n",
    "        except:\n",
    "            player['year_start'] = np.nan\n",
    "        try:\n",
    "            player['year_end'] = row.find('td', {'data-stat' : 'year_max'}).text\n",
    "        except:\n",
    "            player['year_end'] = np.nan\n",
    "        try:\n",
    "            player['position'] = row.find('td', {'data-stat' : 'pos'}).text\n",
    "        except:\n",
    "            player['position'] = np.nan\n",
    "        try:\n",
    "            player['height'] = row.find('td', {'data-stat' : 'height'}).text\n",
    "        except:\n",
    "            player['height'] = np.nan\n",
    "        try:\n",
    "            player['weight'] = row.find('td', {'data-stat' : 'weight'}).text\n",
    "        except:\n",
    "            player['weight'] = np.nan\n",
    "        try:\n",
    "            player['birth_date'] = row.find('td', {'data-stat' : 'birth_date'}).text\n",
    "        except:\n",
    "            player['birth_date'] = np.nan\n",
    "        try:\n",
    "            player['college'] = row.find('td', {'data-stat' : 'colleges'}).text\n",
    "        except:\n",
    "            player['college'] = np.nan\n",
    "    \n",
    "    \n",
    "\n",
    "        players.append(player)\n",
    "        \n",
    "    "
   ]
  },
  {
   "cell_type": "markdown",
   "metadata": {},
   "source": [
    "# Making players DataFrame"
   ]
  },
  {
   "cell_type": "code",
   "execution_count": null,
   "metadata": {},
   "outputs": [],
   "source": [
    "players_df = pd.DataFrame(players)"
   ]
  },
  {
   "cell_type": "code",
   "execution_count": null,
   "metadata": {},
   "outputs": [],
   "source": [
    "players_df.head()"
   ]
  },
  {
   "cell_type": "code",
   "execution_count": null,
   "metadata": {},
   "outputs": [],
   "source": [
    "players_df.dtypes\n",
    "#all are strings, need to convert some to ints"
   ]
  },
  {
   "cell_type": "code",
   "execution_count": null,
   "metadata": {},
   "outputs": [],
   "source": [
    "#"
   ]
  },
  {
   "cell_type": "code",
   "execution_count": null,
   "metadata": {},
   "outputs": [],
   "source": [
    "players_df = players_df.astype({'year_start': 'int64'})"
   ]
  },
  {
   "cell_type": "code",
   "execution_count": null,
   "metadata": {},
   "outputs": [],
   "source": [
    "players_df = players_df.astype({'year_end': 'int64'})"
   ]
  },
  {
   "cell_type": "markdown",
   "metadata": {},
   "source": [
    "# Creating a Dataframe of just current players"
   ]
  },
  {
   "cell_type": "code",
   "execution_count": null,
   "metadata": {},
   "outputs": [],
   "source": [
    "current_players_df = players_df.loc[players_df['year_end'] > 2019]"
   ]
  },
  {
   "cell_type": "code",
   "execution_count": null,
   "metadata": {},
   "outputs": [],
   "source": [
    "nineteen_df = players_df[(players_df['year_end'] > 2018) & (players_df['year_start'] < 2019)]"
   ]
  },
  {
   "cell_type": "code",
   "execution_count": null,
   "metadata": {},
   "outputs": [],
   "source": [
    "current_players_list = current_players_df.to_dict('list')\n",
    "#making it into a list of dictionaires so that can loop throught= them"
   ]
  },
  {
   "cell_type": "code",
   "execution_count": null,
   "metadata": {},
   "outputs": [],
   "source": [
    "current_players_list.keys()"
   ]
  },
  {
   "cell_type": "markdown",
   "metadata": {},
   "source": [
    "# Getting Team Averages"
   ]
  },
  {
   "cell_type": "code",
   "execution_count": null,
   "metadata": {},
   "outputs": [],
   "source": [
    "team_average_years = ['2004', '2005', '2006', '2007', '2008', '2009', '2010', '2011',\\\n",
    "                      '2012', '2013', '2013', '2015', '2016', '2017', '2018', '2019', '2020']"
   ]
  },
  {
   "cell_type": "code",
   "execution_count": null,
   "metadata": {},
   "outputs": [],
   "source": [
    "game_months = ['11', '12', '1', '2', '3', '4']"
   ]
  },
  {
   "cell_type": "code",
   "execution_count": null,
   "metadata": {},
   "outputs": [],
   "source": [
    "team_def_stats = []\n",
    "\n",
    "\n",
    "for y in team_average_years:\n",
    "    for m in game_months:\n",
    "        url3 = f'https://www.teamrankings.com/nba/stat/defensive-efficiency?date=2020-05-25'\n",
    "        r3 = requests.get(url3)\n",
    "        soup3 = BeautifulSoup(r3.content, 'lxml')\n",
    "        div_main = soup3.find('div', {'class': 'main-wrapper clearfix has-left-sidebar'})\n",
    "        main_scrape= div_main.find('main', {'role': 'main'})\n",
    "        table_scrape = main_scrape.find('table')\n",
    "        date_scrape = main_scrape.find('div', {'class': 'table-filters clearfix'})\n",
    "        for row in table_scrape.find('tbody').find_all('tr'):\n",
    "                stats = {}\n",
    "                stats['date'] = date_scrape.find('input').attrs['value']\n",
    "                stats['name'] = row.find_all('td')[1].attrs['data-sort']\n",
    "                stats['current_year_def'] = row.find_all('td')[2].attrs['data-sort']\n",
    "                stats['last_3'] = row.find_all('td')[3].attrs['data-sort']\n",
    "                stats['last_1'] = row.find_all('td')[4].attrs['data-sort']\n",
    "                stats['home'] = row.find_all('td')[5].attrs['data-sort']\n",
    "                stats['away'] = row.find_all('td')[6].attrs['data-sort']\n",
    "                stats['last_year_def'] = row.find_all('td')[7].attrs['data-sort']\n",
    "\n",
    "\n",
    "\n",
    "                team_def_stats.append(stats)\n"
   ]
  },
  {
   "cell_type": "code",
   "execution_count": null,
   "metadata": {},
   "outputs": [],
   "source": [
    "team_def_df = pd.DataFrame(team_def_stats)"
   ]
  },
  {
   "cell_type": "code",
   "execution_count": null,
   "metadata": {},
   "outputs": [],
   "source": [
    "team_def_df.head()"
   ]
  },
  {
   "cell_type": "code",
   "execution_count": null,
   "metadata": {},
   "outputs": [],
   "source": [
    "team_def_df['name'].unique()"
   ]
  },
  {
   "cell_type": "code",
   "execution_count": null,
   "metadata": {},
   "outputs": [],
   "source": [
    "home_abr = []\n",
    "for row in team_def_df['name']:\n",
    "        if row == 'New Orleans':\n",
    "            home_abr.append('NOP')\n",
    "        elif row == 'LA Lakers':\n",
    "            home_abr.append('LAL')\n",
    "        elif row == 'Chicago':\n",
    "            home_abr.append('CHI')\n",
    "        elif row == 'Detroit':\n",
    "            home_abr.append('DET')\n",
    "        elif row == 'Cleveland':\n",
    "            home_abr.append('CLE')\n",
    "        elif row == 'Minnesota':\n",
    "            home_abr.append('MIN')\n",
    "        elif row == 'Memphis':\n",
    "            home_abr.append('MEM')\n",
    "        elif row == 'Washington':\n",
    "            home_abr.append('WAS')\n",
    "        elif row == 'New York':\n",
    "            home_abr.append('NYK')\n",
    "        elif row == 'Okla City':\n",
    "            home_abr.append('OKC')\n",
    "        elif row == 'Sacramento':\n",
    "            home_abr.append('SAC')\n",
    "        elif row == 'Denver':\n",
    "            home_abr.append('DEN')\n",
    "        elif row == 'Atlanta':\n",
    "            home_abr.append('ATL')\n",
    "        elif row == 'Milwaukee':\n",
    "            home_abr.append('MIL')\n",
    "        elif row == 'LA Clippers':\n",
    "            home_abr.append('LAC')\n",
    "        elif row == 'Toronto':\n",
    "            home_abr.append('TOR')\n",
    "        elif row == 'Dallas':\n",
    "            home_abr.append('DAL')\n",
    "        elif row == 'Phoenix':\n",
    "            home_abr.append('PHO')\n",
    "        elif row == 'Portland':\n",
    "            home_abr.append('POR')\n",
    "        elif row == 'Utah':\n",
    "            home_abr.append('UTA')\n",
    "        elif row == 'Miami':\n",
    "            home_abr.append('MIA')\n",
    "        elif row == 'Philadelphia':\n",
    "            home_abr.append('PHI')\n",
    "        elif row == 'Orlando':\n",
    "            home_abr.append('ORL')\n",
    "        elif row == 'Boston':\n",
    "            home_abr.append('BOS')\n",
    "        elif row == 'Indiana':\n",
    "            home_abr.append('IND')\n",
    "        elif row == 'Brooklyn':\n",
    "            home_abr.append('BKN')\n",
    "        elif row == 'Charlotte':\n",
    "            home_abr.append('CHA')\n",
    "        elif row == 'Houston':\n",
    "            home_abr.append('HOU')\n",
    "        elif row == 'San Antonio':\n",
    "            home_abr.append('SAS')\n",
    "        elif row == 'Golden State':\n",
    "            home_abr.append('GSW')\n",
    "        else:\n",
    "            home_abr.append('Forgot to add team!')\n",
    "\n",
    "team_def_df['team_abr'] = home_abr      "
   ]
  },
  {
   "cell_type": "code",
   "execution_count": null,
   "metadata": {},
   "outputs": [],
   "source": [
    "team_def_df.dtypes"
   ]
  },
  {
   "cell_type": "code",
   "execution_count": null,
   "metadata": {},
   "outputs": [],
   "source": [
    "years = ['2004', '2005', '2006', '2007', '2008',\\\n",
    "         '2009', '2010', '2011', '2012', '2013', '2014', '2015', '2016', '2017', '2018',\\\n",
    "         '2019', '2020']"
   ]
  },
  {
   "cell_type": "markdown",
   "metadata": {},
   "source": [
    "# Scraping the boxscore for each game for every active player in the NBA"
   ]
  },
  {
   "cell_type": "code",
   "execution_count": null,
   "metadata": {},
   "outputs": [],
   "source": [
    "all_players_stats = []\n",
    "counter = 0\n",
    "for y in years:\n",
    "    for a in alphabet:\n",
    "        for w in players_df['slug'].unique():\n",
    "            first_letter = w[0]\n",
    "            if first_letter == a:\n",
    "                try:\n",
    "                    url = f'https://www.basketball-reference.com/players/{a}/{w}/gamelog/{y}'\n",
    "                    r = requests.get(url)\n",
    "                    soup = BeautifulSoup(r.content, 'lxml')\n",
    "                    table = soup.find('table', {'id': 'pgl_basic'})\n",
    "                    div = soup.find('div', {'itemtype' : 'https://schema.org/Person'})\n",
    "                    name = div.find('h1', {'itemprop' : 'name'})\n",
    "                    for row in table.find('tbody').find_all('tr'):\n",
    "                        game = {}\n",
    "                        game['slug'] = w\n",
    "                        try:\n",
    "                            game['date'] = row.find('td', {'data-stat' : 'date_game'}).text\n",
    "                        except:\n",
    "                            game['date'] = np.nan\n",
    "                        try:\n",
    "                            game['name'] = name.text\n",
    "                        except:\n",
    "                            game['name'] = np.nan\n",
    "                        try:\n",
    "                            game['age'] = row.find('td', {'data-stat' : 'age'}).text\n",
    "                        except:\n",
    "                            game['age'] = np.nan\n",
    "                        try:\n",
    "                            game['team'] = row.find('td', {'data-stat' : 'team_id'}).text\n",
    "                        except:\n",
    "                            game['team'] = np.nan\n",
    "                        try:\n",
    "                            game['away'] = row.find('td', {'data-stat' : 'game_location'}).text\n",
    "                        except:\n",
    "                            game['away'] = np.nan\n",
    "                        try:\n",
    "                            game['opponent'] = row.find('td', {'data-stat' : 'opp_id'}).text\n",
    "                        except:\n",
    "                            game['opponent'] = np.nan\n",
    "                        try:\n",
    "                            game['game_result'] = row.find('td', {'data-stat' : 'game_result'}).text\n",
    "                        except:\n",
    "                            game['game_result'] = np.nan\n",
    "                        try:\n",
    "                            game['minutes_played'] = row.find('td', {'data-stat' : 'mp'}).text\n",
    "                        except:\n",
    "                            game['minutes_played'] = np.nan\n",
    "                        try:\n",
    "                            game['field_goals'] = row.find('td', {'data-stat' : 'fg'}).text\n",
    "                        except:\n",
    "                            game['field_goals'] = np.nan\n",
    "                        try:\n",
    "                            game['field_goals_att'] = row.find('td', {'data-stat' : 'fga'}).text\n",
    "                        except:\n",
    "                            game['field_goals_att'] = np.nan\n",
    "                        try:\n",
    "                            game['field_goal_perc'] = row.find('td', {'data-stat' : 'fg_pct'}).text\n",
    "                        except:\n",
    "                            game['field_goal_perc'] = np.nan\n",
    "                        try:\n",
    "                            game['three_point_made'] = row.find('td', {'data-stat' : 'fg3'}).text\n",
    "                        except:\n",
    "                            game['three_point_made'] = np.nan\n",
    "                        try:\n",
    "                            game['three_point_att'] = row.find('td', {'data-stat' : 'fg3a'}).text\n",
    "                        except:\n",
    "                            game['three_point_att'] = np.nan\n",
    "                        try:\n",
    "                            game['three_point_perc'] = row.find('td', {'data-stat' : 'fg3_pct'}).text\n",
    "                        except:\n",
    "                            game['three_point_perc'] = np.nan\n",
    "                        try:\n",
    "                            game['free_throws_made'] = row.find('td', {'data-stat' : 'ft'}).text\n",
    "                        except:\n",
    "                            game['free_throws_made'] = np.nan\n",
    "                        try:\n",
    "                            game['free_throws_att'] = row.find('td', {'data-stat' : 'fta'}).text\n",
    "                        except:\n",
    "                            game['free_throws_att'] = np.nan\n",
    "                        try:\n",
    "                            game['free_throw_perc'] = row.find('td', {'data-stat' : 'ft_pct'}).text\n",
    "                        except:\n",
    "                            game['free_throw_perc'] = np.nan\n",
    "                        try:\n",
    "                            game['offensive_rebound'] = row.find('td', {'data-stat' : 'orb'}).text\n",
    "                        except:\n",
    "                            game['offensive_rebound'] = np.nan\n",
    "                        try:\n",
    "                            game['defensive_rebound'] = row.find('td', {'data-stat' : 'drb'}).text\n",
    "                        except:\n",
    "                            game['defensive_rebound'] = np.nan\n",
    "                        try:\n",
    "                            game['total_rebounds'] = row.find('td', {'data-stat' : 'trb'}).text\n",
    "                        except:\n",
    "                            game['total_rebounds'] = np.nan\n",
    "                        try:\n",
    "                            game['assists'] = row.find('td', {'data-stat' : 'ast'}).text\n",
    "                        except:\n",
    "                            game['assists'] = np.nan\n",
    "                        try:\n",
    "                            game['steals'] = row.find('td', {'data-stat' : 'stl'}).text\n",
    "                        except:\n",
    "                            game['steals'] = np.nan\n",
    "                        try:\n",
    "                            game['blocks'] = row.find('td', {'data-stat' : 'blk'}).text\n",
    "                        except:\n",
    "                            game['blocks'] = np.nan\n",
    "                        try:\n",
    "                            game['turnovers'] = row.find('td', {'data-stat' : 'tov'}).text\n",
    "                        except:\n",
    "                            game['turnovers'] = np.nan\n",
    "                        try:\n",
    "                            game['personal_fouls'] = row.find('td', {'data-stat' : 'pf'}).text\n",
    "                        except:\n",
    "                            game['personal_fouls'] = np.nan\n",
    "                        try:\n",
    "                            game['points'] = row.find('td', {'data-stat' : 'pts'}).text\n",
    "                        except:\n",
    "                            game['points'] = np.nan\n",
    "                        try:\n",
    "                            game['game_score'] = row.find('td', {'data-stat' : 'game_score'}).text\n",
    "                        except:\n",
    "                            game['game_score'] = np.nan\n",
    "                        try:\n",
    "                            game['plus_minus'] = row.find('td', {'data-stat' : 'plus_minus'}).text\n",
    "                        except:\n",
    "                            game['plus_minus'] = np.nan\n",
    "\n",
    "\n",
    "                        all_players_stats.append(game)\n",
    "                    else:\n",
    "                        continue\n",
    "                except:\n",
    "                    table = np.nan\n",
    "                else:\n",
    "                    continue"
   ]
  },
  {
   "cell_type": "markdown",
   "metadata": {},
   "source": [
    "# Making the players stats DF"
   ]
  },
  {
   "cell_type": "code",
   "execution_count": null,
   "metadata": {},
   "outputs": [],
   "source": [
    "game_stats_df = pd.DataFrame(all_players_stats)"
   ]
  },
  {
   "cell_type": "code",
   "execution_count": null,
   "metadata": {},
   "outputs": [],
   "source": [
    "final_df = game_stats_df_2020.merge(teams_df, how='left', left_on='team', right_on='team_abr')"
   ]
  },
  {
   "cell_type": "markdown",
   "metadata": {},
   "source": [
    "# Stripping white space"
   ]
  },
  {
   "cell_type": "code",
   "execution_count": null,
   "metadata": {},
   "outputs": [],
   "source": [
    "list_of_columns = list(game_stats_df.columns.values)"
   ]
  },
  {
   "cell_type": "code",
   "execution_count": null,
   "metadata": {},
   "outputs": [],
   "source": [
    "for x in list_of_columns:\n",
    "    game_stats_df[x] = game_stats_df[x].str.strip()"
   ]
  },
  {
   "cell_type": "markdown",
   "metadata": {},
   "source": [
    "# Changing column types and other cleaning"
   ]
  },
  {
   "cell_type": "code",
   "execution_count": null,
   "metadata": {},
   "outputs": [],
   "source": [
    "def columntype_cleaning(df):\n",
    "    df['name'] = df['name'].str[:-17]\n",
    "    df['game_result'] = df['game_result'].str.strip(\"L ()\")\n",
    "    df['game_result'] = df['game_result'].str.strip(\"W ()\")\n",
    "    df['minutes_played'] = df['minutes_played'].str.replace(\":\", \".\")\n",
    "    df['away'] = np.where(df['away'] == \"@\", 1, 0)\n",
    "    df['field_goal_perc'] = df['field_goal_perc'].replace(\"\", np.nan)\n",
    "    df['three_point_perc'] = df['three_point_perc'].replace(\"\", np.nan)\n",
    "    df['plus_minus'] = df['plus_minus'].replace(\"\", np.nan)\n",
    "    df['age'] = df['age'].astype(str)\n",
    "    df['age'] = df['age'].str[:2]\n",
    "    df['away'] = df['away'].astype(int)\n",
    "    df['game_result'] = df['game_result'].astype(float)\n",
    "    df['minutes_played'] = df['minutes_played'].astype(float)\n",
    "    df['field_goals'] = df['field_goals'].astype(float)\n",
    "    df['field_goals_att'] = df['field_goals_att'].astype(float)\n",
    "    df['field_goal_perc'] = df['field_goal_perc'].astype(float)\n",
    "    df['three_point_made'] = df['three_point_made'].astype(float)\n",
    "    df['three_point_att'] = df['three_point_att'].astype(float)\n",
    "    df['three_point_perc'] = df['three_point_perc'].astype(float)\n",
    "    df['offensive_rebound'] = df['offensive_rebound'].astype(float)\n",
    "    df['defensive_rebound'] = df['defensive_rebound'].astype(float)\n",
    "    df['total_rebounds'] = df['total_rebounds'].astype(float)\n",
    "    df['assists'] = df['assists'].astype(float)\n",
    "    df['steals'] = df['steals'].astype(float)\n",
    "    df['blocks'] = df['blocks'].astype(float)\n",
    "    df['turnovers'] = df['turnovers'].astype(float)\n",
    "    df['personal_fouls'] = df['personal_fouls'].astype(float)\n",
    "    df['points'] = df['points'].astype(float)\n",
    "    df['game_score'] = df['game_score'].astype(float)\n",
    "    df['plus_minus'] = df['plus_minus'].astype(float)\n",
    "  "
   ]
  },
  {
   "cell_type": "code",
   "execution_count": null,
   "metadata": {},
   "outputs": [],
   "source": [
    "columntype_cleaning(game_stats_df)"
   ]
  },
  {
   "cell_type": "code",
   "execution_count": null,
   "metadata": {},
   "outputs": [],
   "source": [
    "game_stats_df.to_csv('../player_box_scores_clean.csv', index=False)"
   ]
  },
  {
   "cell_type": "code",
   "execution_count": null,
   "metadata": {},
   "outputs": [],
   "source": [
    "team_def_df.to_csv('../team_defensive_ratings.csv', index=False)"
   ]
  }
 ],
 "metadata": {
  "kernelspec": {
   "display_name": "Python 3",
   "language": "python",
   "name": "python3"
  },
  "language_info": {
   "codemirror_mode": {
    "name": "ipython",
    "version": 3
   },
   "file_extension": ".py",
   "mimetype": "text/x-python",
   "name": "python",
   "nbconvert_exporter": "python",
   "pygments_lexer": "ipython3",
   "version": "3.7.6"
  }
 },
 "nbformat": 4,
 "nbformat_minor": 2
}
